{
 "cells": [
  {
   "cell_type": "markdown",
   "id": "60bbc9a3",
   "metadata": {},
   "source": [
    "# Nifty50 & Bank Nifty"
   ]
  },
  {
   "cell_type": "markdown",
   "id": "82cd7fad",
   "metadata": {},
   "source": [
    "## Nifty 50"
   ]
  },
  {
   "cell_type": "code",
   "execution_count": null,
   "id": "378979ae",
   "metadata": {},
   "outputs": [],
   "source": [
    "import pandas as pd\n",
    "import numpy as np\n",
    "import matplotlib.pyplot as plt\n",
    "import seaborn as sn\n",
    "import yfinance as yf"
   ]
  },
  {
   "cell_type": "code",
   "execution_count": null,
   "id": "ca670462",
   "metadata": {},
   "outputs": [],
   "source": [
    "#### Loading Desired Data from Yahoo Finance."
   ]
  },
  {
   "cell_type": "code",
   "execution_count": null,
   "id": "7f6ff902",
   "metadata": {},
   "outputs": [],
   "source": [
    "nft = yf.download('^NSEI', start=\"2019-01-01\", end=\"2023-12-30\")\n",
    "nft.head()"
   ]
  },
  {
   "cell_type": "markdown",
   "id": "1859664d",
   "metadata": {},
   "source": [
    "#### Cleaning Process."
   ]
  },
  {
   "cell_type": "code",
   "execution_count": null,
   "id": "e101e014",
   "metadata": {},
   "outputs": [],
   "source": [
    "nft.info()"
   ]
  },
  {
   "cell_type": "code",
   "execution_count": null,
   "id": "8aea58d0",
   "metadata": {},
   "outputs": [],
   "source": [
    "nft.describe()"
   ]
  },
  {
   "cell_type": "code",
   "execution_count": null,
   "id": "82fba22a",
   "metadata": {},
   "outputs": [],
   "source": [
    "nft.rename(columns={\"Adj Close\": \"price_t\"}, inplace=True)\n",
    "nft.head()"
   ]
  },
  {
   "cell_type": "markdown",
   "id": "5fce2ce3",
   "metadata": {},
   "source": [
    "#### Calculate daily returns."
   ]
  },
  {
   "cell_type": "markdown",
   "id": "8b9aad4b",
   "metadata": {},
   "source": [
    "#### The stock return calculation considers both the appreciation of the stock’s price and any dividends that were paid out during the holding period."
   ]
  },
  {
   "cell_type": "code",
   "execution_count": null,
   "id": "9d2c18d7",
   "metadata": {},
   "outputs": [],
   "source": [
    "nft['daily_returns']=nft[\"price_t\"].pct_change()\n",
    "nft"
   ]
  },
  {
   "cell_type": "markdown",
   "id": "53a19c64",
   "metadata": {},
   "source": [
    "#### Visualize the trend of stock price."
   ]
  },
  {
   "cell_type": "code",
   "execution_count": null,
   "id": "ce88bf02",
   "metadata": {},
   "outputs": [],
   "source": [
    "nft['price_t'].plot()"
   ]
  },
  {
   "cell_type": "markdown",
   "id": "0fbac285",
   "metadata": {},
   "source": [
    "#### Visualize the trend of stock daily returns."
   ]
  },
  {
   "cell_type": "code",
   "execution_count": null,
   "id": "94221a64",
   "metadata": {},
   "outputs": [],
   "source": [
    "nft['daily_returns'].plot()"
   ]
  },
  {
   "cell_type": "markdown",
   "id": "566d07af",
   "metadata": {},
   "source": [
    "#### When we compare the trend of stock price and stock returns, we can observe that the stock price of Nifty 50 is in the Downtrend in early 2020 accordingly the stock returns just show a same pattern. This means sometims the stock returns are predictable."
   ]
  },
  {
   "cell_type": "markdown",
   "id": "f3d0895b",
   "metadata": {},
   "source": [
    "#### Moving Average (30-day)"
   ]
  },
  {
   "cell_type": "code",
   "execution_count": null,
   "id": "4a5c52aa",
   "metadata": {},
   "outputs": [],
   "source": [
    "nft['mov_avg'] = nft['price_t'].rolling(30).mean()"
   ]
  },
  {
   "cell_type": "code",
   "execution_count": null,
   "id": "e8f75e59",
   "metadata": {},
   "outputs": [],
   "source": [
    "nft[['price_t', 'mov_avg']].plot()"
   ]
  },
  {
   "cell_type": "markdown",
   "id": "45a2145f",
   "metadata": {},
   "source": [
    "#### Volatility Measures (30-day)"
   ]
  },
  {
   "cell_type": "code",
   "execution_count": null,
   "id": "ea3afe9d",
   "metadata": {},
   "outputs": [],
   "source": [
    "nft['Log_Ret'] = np.log(nft['price_t'] / nft['price_t'].shift(1))\n",
    "# Compute Volatility using the pandas rolling standard deviation function\n",
    "nft['volatility'] = nft['Log_Ret'].rolling(window=30).std() * np.sqrt(30)"
   ]
  },
  {
   "cell_type": "code",
   "execution_count": null,
   "id": "f05ad091",
   "metadata": {},
   "outputs": [],
   "source": [
    "nft[['volatility']].plot()"
   ]
  },
  {
   "cell_type": "markdown",
   "id": "1a182fba",
   "metadata": {},
   "source": [
    "#### RSI (30-day)"
   ]
  },
  {
   "cell_type": "code",
   "execution_count": null,
   "id": "30cc031b",
   "metadata": {},
   "outputs": [],
   "source": [
    "change = nft[\"price_t\"].diff()\n",
    "change.dropna(inplace=True)"
   ]
  },
  {
   "cell_type": "code",
   "execution_count": null,
   "id": "6c9370ed",
   "metadata": {},
   "outputs": [],
   "source": [
    "# Create two copies of the Closing price Series\n",
    "change_up = change.copy()\n",
    "change_down = change.copy()\n",
    "\n",
    "\n",
    "change_up[change_up<0] = 0\n",
    "change_down[change_down>0] = 0\n",
    "\n",
    "# Verify that we did not make any mistakes\n",
    "change.equals(change_up+change_down)\n",
    "\n",
    "# Calculate the rolling average of average up and average down\n",
    "avg_up = change_up.rolling(30).mean()\n",
    "avg_down = change_down.rolling(30).mean().abs()\n",
    "\n",
    "rsi = 100 * avg_up / (avg_up + avg_down)"
   ]
  },
  {
   "cell_type": "code",
   "execution_count": null,
   "id": "ec6f3b35",
   "metadata": {},
   "outputs": [],
   "source": [
    "# Create chart on the same figure.\n",
    "ax = plt.subplot2grid((10,1), (5,0), rowspan = 4, colspan = 1)\n",
    "\n",
    "# Plot the RSI\n",
    "ax.set_title('Relative Strength Index')\n",
    "ax.plot(rsi, color='orange', linewidth=1)\n",
    "\n",
    "# Add two horizontal lines, signalling the buy and sell ranges.\n",
    "# Oversold\n",
    "ax.axhline(30, linestyle='--', linewidth=1.5, color='green')\n",
    "# Overbought\n",
    "ax.axhline(70, linestyle='--', linewidth=1.5, color='red')"
   ]
  },
  {
   "cell_type": "markdown",
   "id": "90a7b70f",
   "metadata": {},
   "source": [
    "## Bank Nifty"
   ]
  },
  {
   "cell_type": "markdown",
   "id": "c5cd37d3",
   "metadata": {},
   "source": [
    "#### Loading Desired Data from Yahoo Finance."
   ]
  },
  {
   "cell_type": "code",
   "execution_count": null,
   "id": "1e669c0b",
   "metadata": {},
   "outputs": [],
   "source": [
    "bnft = yf.download('^NSEBANK', start=\"2019-01-01\", end=\"2023-12-30\")\n",
    "bnft.head()"
   ]
  },
  {
   "cell_type": "markdown",
   "id": "3569353a",
   "metadata": {},
   "source": [
    "#### Cleaning Process."
   ]
  },
  {
   "cell_type": "code",
   "execution_count": null,
   "id": "d248a4a7",
   "metadata": {},
   "outputs": [],
   "source": [
    "bnft.info()"
   ]
  },
  {
   "cell_type": "code",
   "execution_count": null,
   "id": "8f125b4d",
   "metadata": {},
   "outputs": [],
   "source": [
    "bnft.describe()"
   ]
  },
  {
   "cell_type": "code",
   "execution_count": null,
   "id": "d52e0978",
   "metadata": {},
   "outputs": [],
   "source": [
    "bnft.rename(columns={\"Adj Close\": \"price_t\"}, inplace=True)\n",
    "bnft.head()"
   ]
  },
  {
   "cell_type": "markdown",
   "id": "2bbe7fd6",
   "metadata": {},
   "source": [
    "#### Calculate daily returns."
   ]
  },
  {
   "cell_type": "markdown",
   "id": "19fbb2ba",
   "metadata": {},
   "source": [
    "#### The stock return calculation considers both the appreciation of the stock’s price and any dividends that were paid out during the holding period."
   ]
  },
  {
   "cell_type": "code",
   "execution_count": null,
   "id": "6dc98ad7",
   "metadata": {},
   "outputs": [],
   "source": [
    "bnft['daily_returns']=bnft[\"price_t\"].pct_change()\n",
    "bnft"
   ]
  },
  {
   "cell_type": "markdown",
   "id": "4a6a9a36",
   "metadata": {},
   "source": [
    "#### Visualize the trend of stock price."
   ]
  },
  {
   "cell_type": "code",
   "execution_count": null,
   "id": "dfcb022d",
   "metadata": {},
   "outputs": [],
   "source": [
    "bnft['price_t'].plot()"
   ]
  },
  {
   "cell_type": "markdown",
   "id": "318f8f08",
   "metadata": {},
   "source": [
    "#### Visualize the trend of stock daily returns."
   ]
  },
  {
   "cell_type": "code",
   "execution_count": null,
   "id": "f084fa99",
   "metadata": {},
   "outputs": [],
   "source": [
    "bnft['daily_returns'].plot()"
   ]
  },
  {
   "cell_type": "markdown",
   "id": "a982fa9e",
   "metadata": {},
   "source": [
    "#### When we compare the trend of stock price and stock returns, we can observe that the stock price of Bank Nifty is in the Downtrend in early 2020 accordingly the stock returns just show a same pattern. This means sometims the stock returns are predictable."
   ]
  },
  {
   "cell_type": "markdown",
   "id": "7e91f3da",
   "metadata": {},
   "source": [
    "#### Moving Average (30-day)"
   ]
  },
  {
   "cell_type": "code",
   "execution_count": null,
   "id": "a97d9977",
   "metadata": {},
   "outputs": [],
   "source": [
    "bnft['mov_avg'] = bnft['price_t'].rolling(30).mean()"
   ]
  },
  {
   "cell_type": "code",
   "execution_count": null,
   "id": "7b08ab22",
   "metadata": {},
   "outputs": [],
   "source": [
    "bnft[['price_t', 'mov_avg']].plot()"
   ]
  },
  {
   "cell_type": "markdown",
   "id": "ab865d33",
   "metadata": {},
   "source": [
    "#### Volatility Measures (30-day)"
   ]
  },
  {
   "cell_type": "code",
   "execution_count": null,
   "id": "644c4efe",
   "metadata": {},
   "outputs": [],
   "source": [
    "bnft['Log_Ret'] = np.log(bnft['price_t'] / bnft['price_t'].shift(1))\n",
    "# Compute Volatility using the pandas rolling standard deviation function\n",
    "bnft['volatility'] = bnft['Log_Ret'].rolling(window=30).std() * np.sqrt(30)"
   ]
  },
  {
   "cell_type": "code",
   "execution_count": null,
   "id": "b80ba3de",
   "metadata": {},
   "outputs": [],
   "source": [
    "bnft[['volatility']].plot()"
   ]
  },
  {
   "cell_type": "markdown",
   "id": "aa9fc3e4",
   "metadata": {},
   "source": [
    "#### RSI (30-day)"
   ]
  },
  {
   "cell_type": "code",
   "execution_count": null,
   "id": "87976667",
   "metadata": {},
   "outputs": [],
   "source": [
    "change = bnft[\"price_t\"].diff()\n",
    "change.dropna(inplace=True)"
   ]
  },
  {
   "cell_type": "code",
   "execution_count": null,
   "id": "fa63d578",
   "metadata": {},
   "outputs": [],
   "source": [
    "# Create two copies of the Closing price Series\n",
    "change_up = change.copy()\n",
    "change_down = change.copy()\n",
    "\n",
    "\n",
    "change_up[change_up<0] = 0\n",
    "change_down[change_down>0] = 0\n",
    "\n",
    "# Verify that we did not make any mistakes\n",
    "change.equals(change_up+change_down)\n",
    "\n",
    "# Calculate the rolling average of average up and average down\n",
    "avg_up = change_up.rolling(30).mean()\n",
    "avg_down = change_down.rolling(30).mean().abs()\n",
    "\n",
    "rsi = 100 * avg_up / (avg_up + avg_down)"
   ]
  },
  {
   "cell_type": "code",
   "execution_count": null,
   "id": "3105781c",
   "metadata": {},
   "outputs": [],
   "source": [
    "# Create chart on the same figure.\n",
    "ax = plt.subplot2grid((10,1), (5,0), rowspan = 4, colspan = 1)\n",
    "\n",
    "# Plot the RSI\n",
    "ax.set_title('Relative Strength Index')\n",
    "ax.plot(rsi, color='orange', linewidth=1)\n",
    "\n",
    "# Add two horizontal lines, signalling the buy and sell ranges.\n",
    "# Oversold\n",
    "ax.axhline(30, linestyle='--', linewidth=1.5, color='green')\n",
    "# Overbought\n",
    "ax.axhline(70, linestyle='--', linewidth=1.5, color='red')"
   ]
  }
 ],
 "metadata": {
  "kernelspec": {
   "display_name": "Python 3 (ipykernel)",
   "language": "python",
   "name": "python3"
  },
  "language_info": {
   "codemirror_mode": {
    "name": "ipython",
    "version": 3
   },
   "file_extension": ".py",
   "mimetype": "text/x-python",
   "name": "python",
   "nbconvert_exporter": "python",
   "pygments_lexer": "ipython3",
   "version": "3.11.4"
  }
 },
 "nbformat": 4,
 "nbformat_minor": 5
}
